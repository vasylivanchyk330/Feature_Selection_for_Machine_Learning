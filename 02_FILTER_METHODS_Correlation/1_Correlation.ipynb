{
 "cells": [
  {
   "cell_type": "markdown",
   "metadata": {},
   "source": [
    "## Correlation\n",
    "\n",
    "Correlation Feature Selection evaluates subsets of features on the basis of the following hypothesis: \"Good feature subsets contain features highly correlated with the target, yet uncorrelated to each other\".\n",
    "\n",
    "by M. Hall 1999, [Correlation-based Feature Selection for Machine Learning](http://www.cs.waikato.ac.nz/~mhall/thesis.pdf)\n",
    "\n",
    "I will demonstrate how to select features based on correlation using 2 meta-procedures:\n",
    "- method of \"brute force\"\n",
    "- method of \"grouping\"\n",
    "\n",
    "The most used method to determine correlation is the Pearson's correlation method, which is the one that I will carry out in this notebook.\n",
    "\n",
    "(Here, I will demonstrate how to identify constant features using a toy dataset.)"
   ]
  },
  {
   "cell_type": "code",
   "execution_count": 1,
   "metadata": {},
   "outputs": [],
   "source": [
    "import pandas as pd\n",
    "import numpy as np\n",
    "\n",
    "import matplotlib.pyplot as plt\n",
    "import seaborn as sns\n",
    "\n",
    "from sklearn.model_selection import train_test_split"
   ]
  },
  {
   "cell_type": "code",
   "execution_count": 2,
   "metadata": {},
   "outputs": [
    {
     "data": {
      "text/plain": [
       "(50000, 109)"
      ]
     },
     "execution_count": 2,
     "metadata": {},
     "output_type": "execute_result"
    }
   ],
   "source": [
    "# load dataset\n",
    "\n",
    "data = pd.read_csv('../dataset_2.csv', nrows=50000)\n",
    "data.shape"
   ]
  },
  {
   "cell_type": "code",
   "execution_count": 3,
   "metadata": {},
   "outputs": [
    {
     "data": {
      "text/html": [
       "<div>\n",
       "<style scoped>\n",
       "    .dataframe tbody tr th:only-of-type {\n",
       "        vertical-align: middle;\n",
       "    }\n",
       "\n",
       "    .dataframe tbody tr th {\n",
       "        vertical-align: top;\n",
       "    }\n",
       "\n",
       "    .dataframe thead th {\n",
       "        text-align: right;\n",
       "    }\n",
       "</style>\n",
       "<table border=\"1\" class=\"dataframe\">\n",
       "  <thead>\n",
       "    <tr style=\"text-align: right;\">\n",
       "      <th></th>\n",
       "      <th>var_1</th>\n",
       "      <th>var_2</th>\n",
       "      <th>var_3</th>\n",
       "      <th>var_4</th>\n",
       "      <th>var_5</th>\n",
       "      <th>var_6</th>\n",
       "      <th>var_7</th>\n",
       "      <th>var_8</th>\n",
       "      <th>var_9</th>\n",
       "      <th>var_10</th>\n",
       "      <th>...</th>\n",
       "      <th>var_100</th>\n",
       "      <th>var_101</th>\n",
       "      <th>var_102</th>\n",
       "      <th>var_103</th>\n",
       "      <th>var_104</th>\n",
       "      <th>var_105</th>\n",
       "      <th>var_106</th>\n",
       "      <th>var_107</th>\n",
       "      <th>var_108</th>\n",
       "      <th>var_109</th>\n",
       "    </tr>\n",
       "  </thead>\n",
       "  <tbody>\n",
       "    <tr>\n",
       "      <th>0</th>\n",
       "      <td>4.532710</td>\n",
       "      <td>3.280834</td>\n",
       "      <td>17.982476</td>\n",
       "      <td>4.404259</td>\n",
       "      <td>2.349910</td>\n",
       "      <td>0.603264</td>\n",
       "      <td>2.784655</td>\n",
       "      <td>0.323146</td>\n",
       "      <td>12.009691</td>\n",
       "      <td>0.139346</td>\n",
       "      <td>...</td>\n",
       "      <td>2.079066</td>\n",
       "      <td>6.748819</td>\n",
       "      <td>2.941445</td>\n",
       "      <td>18.360496</td>\n",
       "      <td>17.726613</td>\n",
       "      <td>7.774031</td>\n",
       "      <td>1.473441</td>\n",
       "      <td>1.973832</td>\n",
       "      <td>0.976806</td>\n",
       "      <td>2.541417</td>\n",
       "    </tr>\n",
       "    <tr>\n",
       "      <th>1</th>\n",
       "      <td>5.821374</td>\n",
       "      <td>12.098722</td>\n",
       "      <td>13.309151</td>\n",
       "      <td>4.125599</td>\n",
       "      <td>1.045386</td>\n",
       "      <td>1.832035</td>\n",
       "      <td>1.833494</td>\n",
       "      <td>0.709090</td>\n",
       "      <td>8.652883</td>\n",
       "      <td>0.102757</td>\n",
       "      <td>...</td>\n",
       "      <td>2.479789</td>\n",
       "      <td>7.795290</td>\n",
       "      <td>3.557890</td>\n",
       "      <td>17.383378</td>\n",
       "      <td>15.193423</td>\n",
       "      <td>8.263673</td>\n",
       "      <td>1.878108</td>\n",
       "      <td>0.567939</td>\n",
       "      <td>1.018818</td>\n",
       "      <td>1.416433</td>\n",
       "    </tr>\n",
       "    <tr>\n",
       "      <th>2</th>\n",
       "      <td>1.938776</td>\n",
       "      <td>7.952752</td>\n",
       "      <td>0.972671</td>\n",
       "      <td>3.459267</td>\n",
       "      <td>1.935782</td>\n",
       "      <td>0.621463</td>\n",
       "      <td>2.338139</td>\n",
       "      <td>0.344948</td>\n",
       "      <td>9.937850</td>\n",
       "      <td>11.691283</td>\n",
       "      <td>...</td>\n",
       "      <td>1.861487</td>\n",
       "      <td>6.130886</td>\n",
       "      <td>3.401064</td>\n",
       "      <td>15.850471</td>\n",
       "      <td>14.620599</td>\n",
       "      <td>6.849776</td>\n",
       "      <td>1.098210</td>\n",
       "      <td>1.959183</td>\n",
       "      <td>1.575493</td>\n",
       "      <td>1.857893</td>\n",
       "    </tr>\n",
       "    <tr>\n",
       "      <th>3</th>\n",
       "      <td>6.020690</td>\n",
       "      <td>9.900544</td>\n",
       "      <td>17.869637</td>\n",
       "      <td>4.366715</td>\n",
       "      <td>1.973693</td>\n",
       "      <td>2.026012</td>\n",
       "      <td>2.853025</td>\n",
       "      <td>0.674847</td>\n",
       "      <td>11.816859</td>\n",
       "      <td>0.011151</td>\n",
       "      <td>...</td>\n",
       "      <td>1.340944</td>\n",
       "      <td>7.240058</td>\n",
       "      <td>2.417235</td>\n",
       "      <td>15.194609</td>\n",
       "      <td>13.553772</td>\n",
       "      <td>7.229971</td>\n",
       "      <td>0.835158</td>\n",
       "      <td>2.234482</td>\n",
       "      <td>0.946170</td>\n",
       "      <td>2.700606</td>\n",
       "    </tr>\n",
       "    <tr>\n",
       "      <th>4</th>\n",
       "      <td>3.909506</td>\n",
       "      <td>10.576516</td>\n",
       "      <td>0.934191</td>\n",
       "      <td>3.419572</td>\n",
       "      <td>1.871438</td>\n",
       "      <td>3.340811</td>\n",
       "      <td>1.868282</td>\n",
       "      <td>0.439865</td>\n",
       "      <td>13.585620</td>\n",
       "      <td>1.153366</td>\n",
       "      <td>...</td>\n",
       "      <td>2.738095</td>\n",
       "      <td>6.565509</td>\n",
       "      <td>4.341414</td>\n",
       "      <td>15.893832</td>\n",
       "      <td>11.929787</td>\n",
       "      <td>6.954033</td>\n",
       "      <td>1.853364</td>\n",
       "      <td>0.511027</td>\n",
       "      <td>2.599562</td>\n",
       "      <td>0.811364</td>\n",
       "    </tr>\n",
       "  </tbody>\n",
       "</table>\n",
       "<p>5 rows × 109 columns</p>\n",
       "</div>"
      ],
      "text/plain": [
       "      var_1      var_2      var_3     var_4     var_5     var_6     var_7  \\\n",
       "0  4.532710   3.280834  17.982476  4.404259  2.349910  0.603264  2.784655   \n",
       "1  5.821374  12.098722  13.309151  4.125599  1.045386  1.832035  1.833494   \n",
       "2  1.938776   7.952752   0.972671  3.459267  1.935782  0.621463  2.338139   \n",
       "3  6.020690   9.900544  17.869637  4.366715  1.973693  2.026012  2.853025   \n",
       "4  3.909506  10.576516   0.934191  3.419572  1.871438  3.340811  1.868282   \n",
       "\n",
       "      var_8      var_9     var_10  ...   var_100   var_101   var_102  \\\n",
       "0  0.323146  12.009691   0.139346  ...  2.079066  6.748819  2.941445   \n",
       "1  0.709090   8.652883   0.102757  ...  2.479789  7.795290  3.557890   \n",
       "2  0.344948   9.937850  11.691283  ...  1.861487  6.130886  3.401064   \n",
       "3  0.674847  11.816859   0.011151  ...  1.340944  7.240058  2.417235   \n",
       "4  0.439865  13.585620   1.153366  ...  2.738095  6.565509  4.341414   \n",
       "\n",
       "     var_103    var_104   var_105   var_106   var_107   var_108   var_109  \n",
       "0  18.360496  17.726613  7.774031  1.473441  1.973832  0.976806  2.541417  \n",
       "1  17.383378  15.193423  8.263673  1.878108  0.567939  1.018818  1.416433  \n",
       "2  15.850471  14.620599  6.849776  1.098210  1.959183  1.575493  1.857893  \n",
       "3  15.194609  13.553772  7.229971  0.835158  2.234482  0.946170  2.700606  \n",
       "4  15.893832  11.929787  6.954033  1.853364  0.511027  2.599562  0.811364  \n",
       "\n",
       "[5 rows x 109 columns]"
      ]
     },
     "execution_count": 3,
     "metadata": {},
     "output_type": "execute_result"
    }
   ],
   "source": [
    "data.head()"
   ]
  },
  {
   "cell_type": "markdown",
   "metadata": {},
   "source": [
    "In practice, feature selection should be done after data pre-processing, so ideally, all the categorical variables are encoded into numbers, and a dataset is cleaned.\n",
    "\n",
    "This dataset, for simplicity, contains only numerical variables.\n",
    "\n",
    "**note**: In all feature selection procedures, it is good practice to select the features by examining only the training set. And this is to avoid overfitting."
   ]
  },
  {
   "cell_type": "code",
   "execution_count": 4,
   "metadata": {},
   "outputs": [
    {
     "data": {
      "text/plain": [
       "((35000, 108), (15000, 108))"
      ]
     },
     "execution_count": 4,
     "metadata": {},
     "output_type": "execute_result"
    }
   ],
   "source": [
    "# separate train and test sets\n",
    "X_train, X_test, y_train, y_test = train_test_split(\n",
    "    data.drop(labels=['target'], axis=1),\n",
    "    data['target'],\n",
    "    test_size=0.3,\n",
    "    random_state=0)\n",
    "\n",
    "X_train.shape, X_test.shape"
   ]
  },
  {
   "cell_type": "markdown",
   "metadata": {},
   "source": [
    "## Correlation heatmap"
   ]
  },
  {
   "cell_type": "code",
   "execution_count": 5,
   "metadata": {},
   "outputs": [
    {
     "data": {
      "text/plain": [
       "<AxesSubplot:>"
      ]
     },
     "execution_count": 5,
     "metadata": {},
     "output_type": "execute_result"
    },
    {
     "data": {
      "image/png": "[encoded data removed]",
      "text/plain": [
       "<Figure size 792x792 with 2 Axes>"
      ]
     },
     "metadata": {
      "needs_background": "light"
     },
     "output_type": "display_data"
    }
   ],
   "source": [
    "# visualise correlated features with method='pearson'\n",
    "\n",
    "corrmat = X_train.corr(method='pearson')\n",
    "\n",
    "# heatmap with the package seaborn to customise the colours of searborn's heatmap\n",
    "cmap = sns.diverging_palette(220, 20, as_cmap=True)\n",
    "\n",
    "# some more customisation\n",
    "fig, ax = plt.subplots()\n",
    "fig.set_size_inches(11,11)\n",
    "\n",
    "# plot\n",
    "sns.heatmap(corrmat, cmap=cmap)"
   ]
  },
  {
   "cell_type": "markdown",
   "metadata": {},
   "source": [
    "In the plot above, the dark orange squares correspond to highly correlated features (>0.8). Darker blue squares corresponds to negatively correlated features (<-0.8).\n",
    "\n",
    "The diagonal represents the correlation of a feature with itself, therefore the value is 1.\n",
    "\n",
    "We can see that there are a few features that are highly correlated."
   ]
  },
  {
   "cell_type": "markdown",
   "metadata": {},
   "source": [
    "## Correlation scatterplots"
   ]
  },
  {
   "cell_type": "code",
   "execution_count": 6,
   "metadata": {},
   "outputs": [
    {
     "name": "stdout",
     "output_type": "stream",
     "text": [
      "var_5 1.0\n",
      "var_28 0.9536721652385074\n",
      "var_75 0.8616179292025175\n"
     ]
    }
   ],
   "source": [
    "# here, there are some lines for detecting correlated features to a certain feature, say var_5\n",
    "\n",
    "c = 0\n",
    "\n",
    "# iterate over each correlation value for var_5:\n",
    "for i in corrmat.loc['var_5']:\n",
    "    if i>0.8:\n",
    "        print(corrmat.columns[c], i)  \n",
    "    c = c + 1"
   ]
  },
  {
   "cell_type": "markdown",
   "metadata": {},
   "source": [
    "We see that the correlation of the second pair of variables is not quite linear.\n",
    "\n",
    "Next, let's identify a couple of negatively correlated variables:"
   ]
  },
  {
   "cell_type": "markdown",
   "metadata": {},
   "source": [
    "## Remove correlated\n",
    "\n",
    "### 1. Brute force approach"
   ]
  },
  {
   "cell_type": "code",
   "execution_count": 7,
   "metadata": {},
   "outputs": [],
   "source": [
    "def correlation(dataset, threshold):\n",
    "    \n",
    "    col_corr = set()\n",
    "    corr_matrix = dataset.corr()\n",
    "    \n",
    "    for i in range(len(corr_matrix.columns)):\n",
    "        \n",
    "        for j in range(i):\n",
    "            \n",
    "            if abs(corr_matrix.iloc[i, j]) > threshold:\n",
    "                print(abs(corr_matrix.iloc[i, j]), corr_matrix.columns[i], corr_matrix.columns[j])\n",
    "                colname = corr_matrix.columns[j]\n",
    "                col_corr.add(colname)\n",
    "                \n",
    "    return col_corr"
   ]
  },
  {
   "cell_type": "code",
   "execution_count": 8,
   "metadata": {
    "scrolled": true
   },
   "outputs": [
    {
     "name": "stdout",
     "output_type": "stream",
     "text": [
      "0.8632980418993852 var_17 var_13\n",
      "0.9813409653986886 var_24 var_22\n",
      "0.9536721652385074 var_28 var_5\n",
      "0.8341792843814487 var_29 var_19\n",
      "0.9904307349993785 var_32 var_22\n",
      "0.9804113632495275 var_32 var_24\n",
      "0.9443605986205716 var_33 var_11\n",
      "0.9744609333741692 var_39 var_22\n",
      "0.943115386679052 var_39 var_24\n",
      "0.9748779191363351 var_39 var_32\n",
      "0.9191057911749927 var_42 var_22\n",
      "0.9672922649953323 var_42 var_24\n",
      "0.9199183443060889 var_42 var_32\n",
      "0.8567453370819024 var_42 var_39\n",
      "0.9654741987814612 var_43 var_18\n",
      "0.8358214281472603 var_44 var_29\n",
      "0.8150241475398569 var_54 var_24\n",
      "0.8287090109274778 var_54 var_42\n",
      "0.8374044816360672 var_57 var_15\n",
      "0.8318090759398231 var_57 var_26\n",
      "0.8207993837973165 var_57 var_37\n",
      "0.8440857367712463 var_57 var_56\n",
      "0.813194752522628 var_59 var_26\n",
      "0.8306144274586847 var_59 var_37\n",
      "0.9757443944210531 var_59 var_56\n",
      "0.9223172758595206 var_59 var_57\n",
      "0.9244600573582376 var_64 var_63\n",
      "0.8925221926487126 var_66 var_52\n",
      "0.8953971637379001 var_70 var_21\n",
      "0.9702627369946087 var_72 var_50\n",
      "0.8831191655903727 var_74 var_40\n",
      "0.8616179292025175 var_75 var_5\n",
      "0.9044132378219313 var_75 var_28\n",
      "0.9319113670252255 var_76 var_22\n",
      "0.9638478619723807 var_76 var_24\n",
      "0.9317176285795009 var_76 var_32\n",
      "0.8784901678462131 var_76 var_39\n",
      "0.9548816934982279 var_76 var_42\n",
      "0.9949233674877799 var_80 var_3\n",
      "0.9591380045048059 var_84 var_63\n",
      "0.8988967009471241 var_84 var_64\n",
      "0.834050390550639 var_85 var_40\n",
      "0.9263326179868671 var_85 var_74\n",
      "0.8174556016431769 var_87 var_35\n",
      "0.8943929785046749 var_88 var_21\n",
      "0.9489465365954275 var_88 var_70\n",
      "0.9678945939294743 var_94 var_46\n",
      "0.9256781174818774 var_95 var_90\n",
      "0.9401844891006164 var_97 var_63\n",
      "0.8999246791754218 var_97 var_84\n",
      "0.9386294358332109 var_100 var_98\n",
      "0.8846845198617815 var_101 var_40\n",
      "0.8692520747111979 var_101 var_74\n",
      "0.9165004542879517 var_101 var_85\n",
      "0.8524708998226321 var_101 var_89\n",
      "0.9147225559783487 var_102 var_23\n",
      "0.8294949944599835 var_104 var_60\n",
      "0.804599133026757 var_104 var_103\n",
      "0.869104402420866 var_105 var_40\n",
      "0.8907312412181736 var_105 var_74\n",
      "0.851245454264784 var_105 var_85\n",
      "0.8373021595141529 var_105 var_101\n",
      "0.9071460024082838 var_106 var_77\n",
      "0.8898468328419906 var_108 var_30\n",
      "0.9877770388061362 var_109 var_56\n",
      "0.9448417564125652 var_109 var_59\n"
     ]
    },
    {
     "data": {
      "text/plain": [
       "40"
      ]
     },
     "execution_count": 8,
     "metadata": {},
     "output_type": "execute_result"
    }
   ],
   "source": [
    "corr_features = correlation(X_train, 0.8)\n",
    "len(set(corr_features))"
   ]
  },
  {
   "cell_type": "code",
   "execution_count": 9,
   "metadata": {
    "scrolled": true
   },
   "outputs": [
    {
     "data": {
      "text/plain": [
       "{'var_101',\n",
       " 'var_103',\n",
       " 'var_11',\n",
       " 'var_13',\n",
       " 'var_15',\n",
       " 'var_18',\n",
       " 'var_19',\n",
       " 'var_21',\n",
       " 'var_22',\n",
       " 'var_23',\n",
       " 'var_24',\n",
       " 'var_26',\n",
       " 'var_28',\n",
       " 'var_29',\n",
       " 'var_3',\n",
       " 'var_30',\n",
       " 'var_32',\n",
       " 'var_35',\n",
       " 'var_37',\n",
       " 'var_39',\n",
       " 'var_40',\n",
       " 'var_42',\n",
       " 'var_46',\n",
       " 'var_5',\n",
       " 'var_50',\n",
       " 'var_52',\n",
       " 'var_56',\n",
       " 'var_57',\n",
       " 'var_59',\n",
       " 'var_60',\n",
       " 'var_63',\n",
       " 'var_64',\n",
       " 'var_70',\n",
       " 'var_74',\n",
       " 'var_77',\n",
       " 'var_84',\n",
       " 'var_85',\n",
       " 'var_89',\n",
       " 'var_90',\n",
       " 'var_98'}"
      ]
     },
     "execution_count": 9,
     "metadata": {},
     "output_type": "execute_result"
    }
   ],
   "source": [
    "corr_features"
   ]
  },
  {
   "cell_type": "code",
   "execution_count": 10,
   "metadata": {},
   "outputs": [
    {
     "data": {
      "text/plain": [
       "((35000, 68), (15000, 68))"
      ]
     },
     "execution_count": 10,
     "metadata": {},
     "output_type": "execute_result"
    }
   ],
   "source": [
    "X_train.drop(labels=corr_features, axis=1, inplace=True)\n",
    "X_test.drop(labels=corr_features, axis=1, inplace=True)\n",
    "\n",
    "X_train.shape, X_test.shape"
   ]
  },
  {
   "cell_type": "markdown",
   "metadata": {},
   "source": [
    "By removing correlated columns we reduced the feature space from 108 numerical columns to 68.\n",
    "\n",
    "### 2. \"Grouping\" approach\n",
    "\n",
    "The second approach looks to identify groups of highly correlated features. And then, further investigation within these groups is made to decide which feature we keep and which one we remove."
   ]
  },
  {
   "cell_type": "code",
   "execution_count": 11,
   "metadata": {},
   "outputs": [],
   "source": [
    "# separate train and test sets\n",
    "X_train, X_test, y_train, y_test = train_test_split(\n",
    "    data.drop(labels=['target'], axis=1),\n",
    "    data['target'],\n",
    "    test_size=0.3,\n",
    "    random_state=0)"
   ]
  },
  {
   "cell_type": "code",
   "execution_count": 12,
   "metadata": {},
   "outputs": [
    {
     "data": {
      "text/html": [
       "<div>\n",
       "<style scoped>\n",
       "    .dataframe tbody tr th:only-of-type {\n",
       "        vertical-align: middle;\n",
       "    }\n",
       "\n",
       "    .dataframe tbody tr th {\n",
       "        vertical-align: top;\n",
       "    }\n",
       "\n",
       "    .dataframe thead th {\n",
       "        text-align: right;\n",
       "    }\n",
       "</style>\n",
       "<table border=\"1\" class=\"dataframe\">\n",
       "  <thead>\n",
       "    <tr style=\"text-align: right;\">\n",
       "      <th></th>\n",
       "      <th>feature1</th>\n",
       "      <th>feature2</th>\n",
       "      <th>corr</th>\n",
       "    </tr>\n",
       "  </thead>\n",
       "  <tbody>\n",
       "    <tr>\n",
       "      <th>0</th>\n",
       "      <td>var_80</td>\n",
       "      <td>var_3</td>\n",
       "      <td>0.994923</td>\n",
       "    </tr>\n",
       "    <tr>\n",
       "      <th>1</th>\n",
       "      <td>var_3</td>\n",
       "      <td>var_80</td>\n",
       "      <td>0.994923</td>\n",
       "    </tr>\n",
       "    <tr>\n",
       "      <th>2</th>\n",
       "      <td>var_22</td>\n",
       "      <td>var_32</td>\n",
       "      <td>0.990431</td>\n",
       "    </tr>\n",
       "    <tr>\n",
       "      <th>3</th>\n",
       "      <td>var_32</td>\n",
       "      <td>var_22</td>\n",
       "      <td>0.990431</td>\n",
       "    </tr>\n",
       "    <tr>\n",
       "      <th>4</th>\n",
       "      <td>var_109</td>\n",
       "      <td>var_56</td>\n",
       "      <td>0.987777</td>\n",
       "    </tr>\n",
       "  </tbody>\n",
       "</table>\n",
       "</div>"
      ],
      "text/plain": [
       "  feature1 feature2      corr\n",
       "0   var_80    var_3  0.994923\n",
       "1    var_3   var_80  0.994923\n",
       "2   var_22   var_32  0.990431\n",
       "3   var_32   var_22  0.990431\n",
       "4  var_109   var_56  0.987777"
      ]
     },
     "execution_count": 12,
     "metadata": {},
     "output_type": "execute_result"
    }
   ],
   "source": [
    "# build a dataframe with the correlation between features\n",
    "\n",
    "corrmat = X_train.corr()\n",
    "corrmat = corrmat.abs().unstack().sort_values(ascending=False)\n",
    "corrmat = corrmat[(corrmat >= 0.8) & (corrmat < 1)] # above a threshold and not self-correlated\n",
    "corrmat = pd.DataFrame(corrmat).reset_index()\n",
    "corrmat.columns = ['feature1', 'feature2', 'corr']\n",
    "corrmat.head()"
   ]
  },
  {
   "cell_type": "code",
   "execution_count": 13,
   "metadata": {},
   "outputs": [
    {
     "name": "stdout",
     "output_type": "stream",
     "text": [
      "found 26 correlated groups\n",
      "out of 108 total features\n"
     ]
    }
   ],
   "source": [
    "# find groups of correlated features\n",
    "\n",
    "grouped_feature_ls = []\n",
    "correlated_groups = []\n",
    "\n",
    "for feature in corrmat.feature1.unique():\n",
    "    \n",
    "    if feature not in grouped_feature_ls:\n",
    "\n",
    "        # find all features correlated to a current feature\n",
    "        correlated_block = corrmat[corrmat.feature1 == feature]\n",
    "        grouped_feature_ls = grouped_feature_ls + list(\n",
    "            correlated_block.feature2.unique()) + [feature]\n",
    "\n",
    "        # append the block of features to the list\n",
    "        correlated_groups.append(correlated_block)\n",
    "\n",
    "print('found {} correlated groups'.format(len(correlated_groups)))\n",
    "print('out of {} total features'.format(X_train.shape[1]))"
   ]
  },
  {
   "cell_type": "code",
   "execution_count": 14,
   "metadata": {
    "scrolled": true
   },
   "outputs": [
    {
     "name": "stdout",
     "output_type": "stream",
     "text": [
      "  feature1 feature2      corr\n",
      "0   var_80    var_3  0.994923\n",
      "\n",
      "   feature1 feature2      corr\n",
      "2    var_22   var_32  0.990431\n",
      "6    var_22   var_24  0.981341\n",
      "15   var_22   var_39  0.974461\n",
      "45   var_22   var_76  0.931911\n",
      "59   var_22   var_42  0.919106\n",
      "\n",
      "   feature1 feature2      corr\n",
      "4   var_109   var_56  0.987777\n",
      "34  var_109   var_59  0.944842\n",
      "\n",
      "   feature1 feature2      corr\n",
      "16   var_72   var_50  0.970263\n",
      "\n",
      "   feature1 feature2      corr\n",
      "18   var_46   var_94  0.967895\n",
      "\n",
      "   feature1 feature2      corr\n",
      "22   var_18   var_43  0.965474\n",
      "\n",
      "   feature1 feature2      corr\n",
      "26   var_63   var_84  0.959138\n",
      "41   var_63   var_97  0.940184\n",
      "52   var_63   var_64  0.924460\n",
      "\n",
      "   feature1 feature2      corr\n",
      "30    var_5   var_28  0.953672\n",
      "94    var_5   var_75  0.861618\n",
      "\n",
      "   feature1 feature2      corr\n",
      "32   var_70   var_88  0.948947\n",
      "72   var_70   var_21  0.895397\n",
      "\n",
      "   feature1 feature2      corr\n",
      "36   var_33   var_11  0.944361\n",
      "\n",
      "   feature1 feature2      corr\n",
      "42  var_100   var_98  0.938629\n",
      "\n",
      "    feature1 feature2      corr\n",
      "48    var_85   var_74  0.926333\n",
      "60    var_85  var_101  0.916500\n",
      "101   var_85  var_105  0.851245\n",
      "112   var_85   var_40  0.834050\n",
      "\n",
      "   feature1 feature2      corr\n",
      "50   var_95   var_90  0.925678\n",
      "\n",
      "    feature1 feature2      corr\n",
      "54    var_57   var_59  0.922317\n",
      "103   var_57   var_56  0.844086\n",
      "104   var_57   var_15  0.837404\n",
      "114   var_57   var_26  0.831809\n",
      "123   var_57   var_37  0.820799\n",
      "\n",
      "   feature1 feature2      corr\n",
      "62  var_102   var_23  0.914723\n",
      "\n",
      "   feature1 feature2      corr\n",
      "64   var_77  var_106  0.907146\n",
      "\n",
      "   feature1 feature2      corr\n",
      "76   var_66   var_52  0.892522\n",
      "\n",
      "   feature1 feature2      corr\n",
      "80  var_108   var_30  0.889847\n",
      "\n",
      "   feature1 feature2      corr\n",
      "92   var_17   var_13  0.863298\n",
      "\n",
      "   feature1 feature2      corr\n",
      "98   var_89  var_101  0.852471\n",
      "\n",
      "    feature1 feature2      corr\n",
      "108   var_44   var_29  0.835821\n",
      "\n",
      "    feature1 feature2      corr\n",
      "110   var_19   var_29  0.834179\n",
      "\n",
      "    feature1 feature2      corr\n",
      "118   var_60  var_104  0.829495\n",
      "\n",
      "    feature1 feature2      corr\n",
      "120   var_54   var_42  0.828709\n",
      "127   var_54   var_24  0.815024\n",
      "\n",
      "    feature1 feature2      corr\n",
      "124   var_87   var_35  0.817456\n",
      "\n",
      "    feature1 feature2      corr\n",
      "131  var_103  var_104  0.804599\n",
      "\n"
     ]
    }
   ],
   "source": [
    "# print out each group\n",
    "\n",
    "for group in correlated_groups:\n",
    "    print(group)\n",
    "    print()"
   ]
  },
  {
   "cell_type": "markdown",
   "metadata": {},
   "source": [
    "Build a machine learning algorithm using all the features from the above list, and select the more predictive one."
   ]
  },
  {
   "cell_type": "code",
   "execution_count": 15,
   "metadata": {},
   "outputs": [],
   "source": [
    "from sklearn.ensemble import RandomForestClassifier\n",
    "\n",
    "rf = RandomForestClassifier(n_estimators=200, random_state=39, max_depth=4)"
   ]
  },
  {
   "cell_type": "code",
   "execution_count": 16,
   "metadata": {},
   "outputs": [],
   "source": [
    "def remove_correlation_with_grouping_approach(correlated_groups):\n",
    "    \n",
    "    print(f\"Number of features in the original X_train BEFORE removing correlated features: {X_train.shape[1]}\")\n",
    "    print(f\"Number of features in the original X_test BEFORE removing correlated features: {X_test.shape[1]}\")\n",
    "    print()\n",
    "    print(\"Proceeding with removing correlated features ...\")\n",
    "    print()\n",
    "    \n",
    "    vars_to_drop = []\n",
    "\n",
    "    for group in correlated_groups:\n",
    "\n",
    "        features = list(group['feature2'].unique()) + list(group['feature1'].unique())\n",
    "\n",
    "        # train a random forest \n",
    "        rf.fit(X_train[features].fillna(0), y_train)\n",
    "\n",
    "        # get the sorted feature importance table\n",
    "        importance = pd.concat(\n",
    "            [pd.Series(features),\n",
    "             pd.Series(rf.feature_importances_)], axis=1)\n",
    "        importance.columns = ['feature', 'importance']\n",
    "        importance.sort_values(by='importance', ascending=False, inplace=True)\n",
    "        importance = importance.reset_index().drop(columns=\"index\")\n",
    "\n",
    "        # define not important correlated variables to drop\n",
    "        vars_to_drop.extend(list(importance.iloc[1:,:].feature))\n",
    "    \n",
    "    # get the vars_to_drop unique values\n",
    "    set1 = set(vars_to_drop)\n",
    "    unique_vars_to_drop = list(set1)\n",
    "    \n",
    "    # drop not important correlated variables\n",
    "    X_train.drop(labels=unique_vars_to_drop, axis=1, inplace=True)\n",
    "    X_test.drop(labels=unique_vars_to_drop, axis=1, inplace=True)\n",
    "    \n",
    "    # print out the results\n",
    "    \n",
    "    print(f\"Unique vars to drop: {unique_vars_to_drop}\")\n",
    "    print()\n",
    "    print(f\"Number of features in the X_train AFTER removing correlated features: {X_train.shape[1]}\")\n",
    "    print(f\"Number of features in the X_test AFTER removing correlated features: {X_test.shape[1]}\")"
   ]
  },
  {
   "cell_type": "code",
   "execution_count": 17,
   "metadata": {
    "scrolled": true
   },
   "outputs": [
    {
     "name": "stdout",
     "output_type": "stream",
     "text": [
      "Number of features in the original X_train BEFORE removing correlated features: 108\n",
      "Number of features in the original X_test BEFORE removing correlated features: 108\n",
      "\n",
      "Proceeding with removing correlated features ...\n",
      "\n",
      "Unique vars to drop: ['var_98', 'var_89', 'var_44', 'var_70', 'var_15', 'var_59', 'var_40', 'var_30', 'var_32', 'var_87', 'var_22', 'var_19', 'var_3', 'var_102', 'var_42', 'var_77', 'var_66', 'var_24', 'var_74', 'var_63', 'var_54', 'var_90', 'var_103', 'var_85', 'var_104', 'var_18', 'var_37', 'var_56', 'var_109', 'var_33', 'var_94', 'var_5', 'var_76', 'var_64', 'var_57', 'var_28', 'var_101', 'var_72', 'var_17', 'var_88', 'var_97']\n",
      "\n",
      "Number of features in the X_train AFTER removing correlated features: 67\n",
      "Number of features in the X_test AFTER removing correlated features: 67\n"
     ]
    }
   ],
   "source": [
    "remove_correlation_with_grouping_approach(correlated_groups)"
   ]
  },
  {
   "cell_type": "code",
   "execution_count": null,
   "metadata": {},
   "outputs": [],
   "source": []
  },
  {
   "cell_type": "markdown",
   "metadata": {},
   "source": [
    "**Noted**: None of the 2 procedures for removing correlated features are perfect, and some correlated features may escape the loops of code. So it might be worthwhile checking that after removing the correlated features, there are no correlated features left in the dataset. If there are, repeat the procedure to remove the remaining ones."
   ]
  },
  {
   "cell_type": "code",
   "execution_count": 18,
   "metadata": {},
   "outputs": [
    {
     "name": "stdout",
     "output_type": "stream",
     "text": [
      "found 0 correlated groups\n",
      "out of 67 total features\n"
     ]
    }
   ],
   "source": [
    "# build a dataframe with the correlation between features\n",
    "\n",
    "corrmat = X_train.corr()\n",
    "corrmat = corrmat.abs().unstack() # absolute value of corr coef\n",
    "corrmat = corrmat.sort_values(ascending=False)\n",
    "corrmat = corrmat[corrmat >= 0.8]\n",
    "corrmat = corrmat[corrmat < 1] # not self-correlated\n",
    "corrmat = pd.DataFrame(corrmat).reset_index()\n",
    "corrmat.columns = ['feature1', 'feature2', 'corr']\n",
    "\n",
    "grouped_feature_ls = []\n",
    "correlated_groups = []\n",
    "\n",
    "for feature in corrmat.feature1.unique():\n",
    "    \n",
    "    if feature not in grouped_feature_ls:\n",
    "\n",
    "        # find all features correlated to a current feature\n",
    "        correlated_block = corrmat[corrmat.feature1 == feature]\n",
    "        grouped_feature_ls = grouped_feature_ls + list(\n",
    "            correlated_block.feature2.unique()) + [feature]\n",
    "\n",
    "        # append the block of features to the list\n",
    "        correlated_groups.append(correlated_block)\n",
    "\n",
    "print('found {} correlated groups'.format(len(correlated_groups)))\n",
    "print('out of {} total features'.format(X_train.shape[1]))"
   ]
  }
 ],
 "metadata": {
  "kernelspec": {
   "display_name": "Python 3",
   "language": "python",
   "name": "python3"
  },
  "language_info": {
   "codemirror_mode": {
    "name": "ipython",
    "version": 3
   },
   "file_extension": ".py",
   "mimetype": "text/x-python",
   "name": "python",
   "nbconvert_exporter": "python",
   "pygments_lexer": "ipython3",
   "version": "3.8.8"
  },
  "toc": {
   "base_numbering": 1,
   "nav_menu": {},
   "number_sections": true,
   "sideBar": true,
   "skip_h1_title": false,
   "title_cell": "Table of Contents",
   "title_sidebar": "Contents",
   "toc_cell": false,
   "toc_position": {
    "height": "calc(100% - 180px)",
    "left": "10px",
    "top": "150px",
    "width": "241.6px"
   },
   "toc_section_display": "block",
   "toc_window_display": true
  }
 },
 "nbformat": 4,
 "nbformat_minor": 2
}
